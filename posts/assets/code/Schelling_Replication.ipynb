{
 "cells": [
  {
   "cell_type": "markdown",
   "metadata": {},
   "source": [
    "# Thomas Schelling's Model of Segregation"
   ]
  },
  {
   "cell_type": "markdown",
   "metadata": {},
   "source": [
    "### Introduction"
   ]
  },
  {
   "cell_type": "markdown",
   "metadata": {},
   "source": [
    "In his [1971 paper](https://www.stat.berkeley.edu/~aldous/157/Papers/Schelling_Seg_Models.pdf), Schelling suggested how two groups of people - e.g. whites and blacks - might self-segregate if individuals prefer not to be in a small minority. The running example he uses in his paper is of individuals in a neighborhood, but the ideas can be extended to other contexts like seating in a conference room or membership in a club. \n",
    "\n",
    "This is the main idea. Imagine a large grid of houses. Some will be vacant, some inhabited by whites, and some by blacks. Also suppose that no one wants to be in a minority too small, to the extent that they will be willing to move if their neighborhood doesn't have enough members of the same race. Also suppose that the order in which families move and the locations to which they move are random (with the stipulation that no one will move to a neighborhood that they would then want to move out of). \n",
    "\n",
    "Although Schelling drew out his model using pencil and paper and used coins and dice to simulate changes over time, we can now represent the model with a program. The first section of code below shows the initial conditions. These include:\n",
    " - how large the housing grid is\n",
    " - what proportion of the grid will be vacant, white, or black\n",
    " - how tolerant individuals in the community are\n",
    " - how large the community defines a neighborhood to be\n",
    " - how many moves we'll execute the algorithm for. "
   ]
  },
  {
   "cell_type": "code",
   "execution_count": 8,
   "metadata": {},
   "outputs": [
    {
     "name": "stdout",
     "output_type": "stream",
     "text": [
      "[[0 0 1 2 2 0 2 1 1 1 0 1 1 1 1 0 2 1 1 0]\n",
      " [2 0 1 2 2 1 0 1 2 1 2 1 1 1 0 0 0 1 1 1]\n",
      " [0 0 2 2 1 1 2 1 0 2 1 2 0 1 1 2 0 1 0 0]\n",
      " [0 0 1 2 1 1 1 1 2 0 0 2 1 2 1 0 1 0 1 1]\n",
      " [1 1 1 0 2 2 1 1 1 0 1 1 1 2 2 1 0 1 1 1]\n",
      " [0 1 1 1 1 1 1 1 2 2 2 1 1 2 1 0 1 0 0 1]\n",
      " [1 2 0 2 2 1 0 0 0 1 1 1 1 1 0 1 0 2 1 2]\n",
      " [1 0 2 2 1 1 1 0 0 0 0 0 1 2 2 2 1 1 1 1]\n",
      " [1 1 1 1 2 0 1 0 2 1 0 2 2 1 2 0 2 1 2 1]\n",
      " [2 2 0 2 1 0 1 1 1 2 1 0 0 1 1 2 2 1 0 1]\n",
      " [1 1 2 0 1 1 2 1 1 0 1 1 0 1 2 0 1 2 2 0]\n",
      " [2 1 0 0 2 1 1 1 0 1 1 0 2 2 2 0 1 1 0 1]\n",
      " [1 1 1 1 2 0 1 2 1 1 1 2 1 2 0 0 1 2 0 1]\n",
      " [2 1 2 1 2 2 2 0 2 0 1 0 2 1 2 1 2 2 1 2]\n",
      " [1 2 2 2 0 0 1 1 1 2 2 0 0 1 2 0 1 2 0 1]\n",
      " [1 1 1 0 2 1 0 0 1 2 2 1 0 1 0 0 1 1 0 1]\n",
      " [1 0 1 1 1 1 0 1 0 1 2 2 1 1 1 1 1 0 1 2]\n",
      " [1 0 2 1 1 2 0 2 0 2 0 2 1 1 1 1 1 1 1 1]\n",
      " [0 0 0 2 0 1 1 2 1 0 2 1 2 1 0 1 2 0 0 1]\n",
      " [2 0 0 1 2 2 0 0 0 1 1 2 2 1 2 2 0 2 0 1]]\n"
     ]
    }
   ],
   "source": [
    "import numpy as np\n",
    "import matplotlib\n",
    "from matplotlib import pyplot\n",
    "\n",
    "BoardLatitude = 20 \n",
    "BoardLongitude = 20\n",
    "PortionEmpty = 0.25\n",
    "PortionWhite = 0.5\n",
    "PortionBlack = 1 - PortionEmpty - PortionWhite\n",
    "\n",
    "Board = np.random.choice(a=[0,1,2], \n",
    "                         size=(BoardLatitude, BoardLongitude), \n",
    "                         replace=True, \n",
    "                         p=(PortionEmpty, PortionWhite, PortionBlack))\n",
    "\n",
    "print(Board)\n",
    "\n",
    "tolerance = 0.25 #Lowest fraction of one's neighbors one needs to be of the same race before one moves\n",
    "radius = 1 #Number of squares in each direction to consider as one's neighborhood\n",
    "iterations = 100 #Number of individual cells to move"
   ]
  },
  {
   "cell_type": "markdown",
   "metadata": {},
   "source": [
    "The grid above (```Board```) shows our initial arrangement of families: 0's represent vacancies, 1's represent whites, and 2's represent blacks. \n",
    "\n",
    "The function below accepts an array as its sole argument. It returns an array containing the location of each vacancy in the grid. "
   ]
  },
  {
   "cell_type": "code",
   "execution_count": 9,
   "metadata": {},
   "outputs": [
    {
     "data": {
      "text/plain": [
       "(array([ 0,  0,  0,  0,  0,  0,  1,  1,  1,  1,  1,  2,  2,  2,  2,  2,  2,\n",
       "         2,  3,  3,  3,  3,  3,  3,  4,  4,  4,  5,  5,  5,  5,  6,  6,  6,\n",
       "         6,  6,  6,  7,  7,  7,  7,  7,  7,  8,  8,  8,  8,  9,  9,  9,  9,\n",
       "         9, 10, 10, 10, 10, 10, 11, 11, 11, 11, 11, 11, 12, 12, 12, 12, 13,\n",
       "        13, 13, 14, 14, 14, 14, 14, 14, 15, 15, 15, 15, 15, 15, 15, 16, 16,\n",
       "        16, 16, 17, 17, 17, 17, 18, 18, 18, 18, 18, 18, 18, 18, 19, 19, 19,\n",
       "        19, 19, 19, 19], dtype=int64),\n",
       " array([ 0,  1,  5, 10, 15, 19,  1,  6, 14, 15, 16,  0,  1,  8, 12, 16, 18,\n",
       "        19,  0,  1,  9, 10, 15, 17,  3,  9, 16,  0, 15, 17, 18,  2,  6,  7,\n",
       "         8, 14, 16,  1,  7,  8,  9, 10, 11,  5,  7, 10, 15,  2,  5, 11, 12,\n",
       "        18,  3,  9, 12, 15, 19,  2,  3,  8, 11, 15, 18,  5, 14, 15, 18,  7,\n",
       "         9, 11,  4,  5, 11, 12, 15, 18,  3,  6,  7, 12, 14, 15, 18,  1,  6,\n",
       "         8, 17,  1,  6,  8, 10,  0,  1,  2,  4,  9, 14, 17, 18,  1,  2,  6,\n",
       "         7,  8, 16, 18], dtype=int64))"
      ]
     },
     "execution_count": 9,
     "metadata": {},
     "output_type": "execute_result"
    }
   ],
   "source": [
    "def vacancies(Board):\n",
    "    vacancyList = np.where(Board == 0)\n",
    "    return(vacancyList)\n",
    "vacancies(Board)"
   ]
  },
  {
   "cell_type": "markdown",
   "metadata": {},
   "source": [
    "### Movement Rules"
   ]
  },
  {
   "cell_type": "markdown",
   "metadata": {},
   "source": [
    "To model how people move over time, we'll need a few functions: ```moveFrom```, ```moveTo```, and ```move```. The first accepts a position on the grid and determines if the family living there would want to move based on the racial composition of their neighbors. The second function, ```moveTo```, accepts a new location and determines if that location would be a suitable place to move for a family of a given race. The final function, ```move```, uses ```moveTo``` to find somewhere for a family to move and then updates the ```Board``` and list of vacancies to record that the move has occurred. "
   ]
  },
  {
   "cell_type": "code",
   "execution_count": 10,
   "metadata": {},
   "outputs": [],
   "source": [
    "#Counts the number of neighbors of a cell of the same race \n",
    "#as the cell and determines whether or not the cell will move. \n",
    "def moveFrom(latitude, longitude):\n",
    "    #Set at -1 to offset counting the cell itself\n",
    "    sameRace = -1\n",
    "    numNeighbors = -1\n",
    "    \n",
    "    for i in range(latitude-radius, latitude+radius+1):\n",
    "        for j in range(longitude-radius, longitude+radius+1):\n",
    "            \n",
    "            #Handle edge cases\n",
    "            if i<0 or j<0 or i>BoardLatitude-1 or j>BoardLongitude-1:\n",
    "                sameRace = sameRace\n",
    "            else:\n",
    "                numNeighbors = numNeighbors+1\n",
    "                if Board[i,j] == Board[latitude, longitude]:\n",
    "                    sameRace = sameRace+1\n",
    "    \n",
    "    if sameRace/numNeighbors < tolerance:\n",
    "        return True\n",
    "    else:\n",
    "        return False    "
   ]
  },
  {
   "cell_type": "code",
   "execution_count": 11,
   "metadata": {},
   "outputs": [],
   "source": [
    "#Nearly identical to moveFrom but indicates whether it is \n",
    "#acceptable to move to the given cell\n",
    "def moveTo(latitude, longitude, race):\n",
    "    #In this case we don't have to worry about counting the cell itself \n",
    "    #in sameRace since we'll only be using this function on vacant cells.\n",
    "    sameRace = 0\n",
    "    numNeighbors = -1\n",
    "    \n",
    "    for i in range(latitude-radius, latitude+radius+1):\n",
    "        for j in range(longitude-radius, longitude+radius+1):\n",
    "            \n",
    "            #Handle edge cases\n",
    "            if i<0 or j<0 or i>BoardLatitude-1 or j>BoardLongitude-1:\n",
    "                sameRace = sameRace\n",
    "            else:\n",
    "                numNeighbors = numNeighbors+1\n",
    "                if Board[i,j] == race:\n",
    "                    sameRace = sameRace+1\n",
    "    \n",
    "    if sameRace/numNeighbors < tolerance:\n",
    "        return False\n",
    "    else:\n",
    "        return True"
   ]
  },
  {
   "cell_type": "code",
   "execution_count": 12,
   "metadata": {},
   "outputs": [],
   "source": [
    "#Takes the coordinates of a cell & determines if it needs to move.\n",
    "#If so, finds a suitable location and updates the Board and vacancyList\n",
    "#to reflect the move.\n",
    "#If not, returns False. \n",
    "def move(latitude, longitude):\n",
    "    vacancyList = vacancies(Board)\n",
    "    while True:\n",
    "        #randomly pick a vacancy to potentially move to\n",
    "        pick = np.random.choice(len(vacancyList[0]), size=1)\n",
    "        #vacancyList has all the x-coords in its 0th entry\n",
    "        #and all the y-coords in its 1st entry\n",
    "        candidate = (vacancyList[0][pick], vacancyList[1][pick])\n",
    "            \n",
    "        #check if vacancy has sufficiently many same-race neighbors\n",
    "        if moveTo(candidate[0][0], candidate[1][0], Board[latitude, longitude]):\n",
    "            #if so, modify Board to show move and vacancy in old cell\n",
    "            Board[candidate[0], candidate[1]] = Board[latitude, longitude]\n",
    "            Board[latitude, longitude] = 0\n",
    "            break "
   ]
  },
  {
   "cell_type": "markdown",
   "metadata": {},
   "source": [
    "### Visualizations \n",
    "\n",
    "Once run the algorithm, we'll want see what's happening. The function ```illustrate``` converts ```Board``` into a colormap so that it's easier to see where people have moved over time. Perhaps later we'll also look at some stats, like the median number of neighbors of the same race or percentage of the population with no neighbors of the opposite race. "
   ]
  },
  {
   "cell_type": "code",
   "execution_count": 13,
   "metadata": {},
   "outputs": [],
   "source": [
    "def illustrate(Board):\n",
    "    # make a color map of fixed colors\n",
    "    cmap = matplotlib.colors.ListedColormap(['white','yellow','brown'])\n",
    "    bounds=[-0.5, 0.5, 1.5, 2.5]\n",
    "    norm = matplotlib.colors.BoundaryNorm(bounds, cmap.N)\n",
    "\n",
    "    # tell imshow about color map so that only set colors are used\n",
    "    img = pyplot.imshow(Board,interpolation='nearest',\n",
    "                        cmap = cmap, norm=norm)\n",
    "\n",
    "    pyplot.show()"
   ]
  },
  {
   "cell_type": "markdown",
   "metadata": {},
   "source": [
    "### The Algorithm\n",
    "\n",
    "Finally, we're ready to run the algorithm itself. What will happen? Only ```time``` will tell. "
   ]
  },
  {
   "cell_type": "code",
   "execution_count": 14,
   "metadata": {},
   "outputs": [
    {
     "data": {
      "image/png": "[encoded data removed]",
      "text/plain": [
       "<Figure size 432x288 with 1 Axes>"
      ]
     },
     "metadata": {
      "needs_background": "light"
     },
     "output_type": "display_data"
    },
    {
     "data": {
      "image/png": "[encoded data removed]",
      "text/plain": [
       "<Figure size 432x288 with 1 Axes>"
      ]
     },
     "metadata": {
      "needs_background": "light"
     },
     "output_type": "display_data"
    }
   ],
   "source": [
    "def time(iterations):\n",
    "    illustrate(Board)\n",
    "    while iterations > 0:\n",
    "        latitude = np.random.choice(BoardLatitude, size=1)[0]\n",
    "        longitude = np.random.choice(BoardLongitude, size=1)[0]\n",
    "        if moveFrom(latitude, longitude):\n",
    "            move(latitude, longitude)\n",
    "            iterations = iterations-1\n",
    "    \n",
    "    illustrate(Board)\n",
    "time(1000)"
   ]
  },
  {
   "cell_type": "markdown",
   "metadata": {},
   "source": [
    "### Conclusion and Further Work\n",
    "\n",
    "The two plots above show the initial distribution of race (white represents vacancies; yellow and brown are the two races) and the distribution after the algorithm has run. Clearly the result is a much more segregated population. \n",
    "\n",
    "There are a variety of limitations to this model, but there are also numerous ways to extend it. Some of the limitations:\n",
    " - Not everyone wants to or can move when surrounded by members of another race; race is correlated with income.\n",
    " - There is no accounting for immigration, emigration, or deaths. \n",
    " - The grid model doesn't accurately reflect real geography - it would be better to include some squares that are uninhabitable.\n",
    " - The model doesn't include the effects of social ties which might pull a family into or out of a neighborhood. The presence of good schools and jobs are relevant here. \n",
    "\n",
    "Perhaps in a later post I'll work on expanding the model to address one of these limitations; I might also investigate what the 4000+ papers citing Schelling's work have done. "
   ]
  }
 ],
 "metadata": {
  "kernelspec": {
   "display_name": "Python 3",
   "language": "python",
   "name": "python3"
  },
  "language_info": {
   "codemirror_mode": {
    "name": "ipython",
    "version": 3
   },
   "file_extension": ".py",
   "mimetype": "text/x-python",
   "name": "python",
   "nbconvert_exporter": "python",
   "pygments_lexer": "ipython3",
   "version": "3.7.0"
  }
 },
 "nbformat": 4,
 "nbformat_minor": 2
}
